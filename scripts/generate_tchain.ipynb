{
 "cells": [
  {
   "cell_type": "markdown",
   "metadata": {},
   "source": [
    "# Generate TChain and Render"
   ]
  },
  {
   "cell_type": "code",
   "execution_count": null,
   "metadata": {
    "scrolled": false
   },
   "outputs": [],
   "source": [
    "import os\n",
    "import ROOT"
   ]
  },
  {
   "cell_type": "code",
   "execution_count": null,
   "metadata": {},
   "outputs": [],
   "source": [
    "cwd = os.getcwd()\n",
    "build_path = os.path.join(os.path.dirname(cwd), \"build\")\n",
    "\n",
    "libpath = os.path.join(build_path, \"libRootDict.dylib\")\n",
    "ROOT.gSystem.Load(libpath)\n",
    "\n",
    "\n",
    "root_file_names = [os.path.join(build_path, fname) for fname in os.listdir(build_path) if os.path.isfile(os.path.join(build_path, fname)) and fname.lower().endswith(\".root\")]\n",
    "\n",
    "chain = ROOT.TChain(\"sim\")\n",
    "for fname in root_file_names:\n",
    "    chain.AddFile(fname)\n",
    "\n",
    "c = ROOT.TCanvas()"
   ]
  },
  {
   "cell_type": "markdown",
   "metadata": {},
   "source": [
    "## Calo"
   ]
  },
  {
   "cell_type": "code",
   "execution_count": null,
   "metadata": {},
   "outputs": [],
   "source": [
    "try:\n",
    "    del h\n",
    "except NameError:\n",
    "    print(\"Defining a new histogram.\")\n",
    "h = ROOT.TH1F(\"caloedephist\", \"69 MeV Positron Energy Deposit in CALO Histogram;Positron Energy Deposit (MeV);Number of Positrons\", 100, 0, 75)\n",
    "\n",
    "chain.Draw(\"calo.edep >> caloedephist\")\n",
    "c.SetLogy(False)\n",
    "c.Update()\n",
    "c.Draw()"
   ]
  },
  {
   "cell_type": "markdown",
   "metadata": {},
   "source": [
    "## SiPM"
   ]
  },
  {
   "cell_type": "code",
   "execution_count": null,
   "metadata": {},
   "outputs": [],
   "source": [
    "chain.Draw(\"sipm.times\")\n",
    "c.SetLogy(False)\n",
    "c.Update()\n",
    "c.Draw()"
   ]
  },
  {
   "cell_type": "code",
   "execution_count": null,
   "metadata": {},
   "outputs": [],
   "source": [
    "chain.Draw(\"sipm.nHits\")\n",
    "c.SetLogy(False)\n",
    "c.Update()\n",
    "c.Draw()"
   ]
  }
 ],
 "metadata": {
  "kernelspec": {
   "display_name": "Python 3 (ipykernel)",
   "language": "python",
   "name": "python3"
  },
  "language_info": {
   "codemirror_mode": {
    "name": "ipython",
    "version": 3
   },
   "file_extension": ".py",
   "mimetype": "text/x-python",
   "name": "python",
   "nbconvert_exporter": "python",
   "pygments_lexer": "ipython3",
   "version": "3.9.12"
  },
  "vscode": {
   "interpreter": {
    "hash": "aee8b7b246df8f9039afb4144a1f6fd8d2ca17a180786b69acc140d282b71a49"
   }
  }
 },
 "nbformat": 4,
 "nbformat_minor": 2
}
