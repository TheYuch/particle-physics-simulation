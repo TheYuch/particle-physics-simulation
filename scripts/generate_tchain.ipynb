{
 "cells": [
  {
   "cell_type": "markdown",
   "metadata": {},
   "source": [
    "# Generate TChain and Render"
   ]
  },
  {
   "cell_type": "code",
   "execution_count": 1,
   "metadata": {
    "scrolled": false
   },
   "outputs": [
    {
     "name": "stdout",
     "output_type": "stream",
     "text": [
      "Welcome to JupyROOT 6.24/06\n"
     ]
    }
   ],
   "source": [
    "import os\n",
    "import ROOT"
   ]
  },
  {
   "cell_type": "code",
   "execution_count": 2,
   "metadata": {},
   "outputs": [],
   "source": [
    "cwd = os.getcwd()\n",
    "build_path = os.path.join(os.path.dirname(cwd), \"build\")\n",
    "\n",
    "libpath = os.path.join(build_path, \"libRootDict.dylib\")\n",
    "ROOT.gSystem.Load(libpath)\n",
    "\n",
    "\n",
    "root_file_names = [os.path.join(build_path, fname) for fname in os.listdir(build_path) if os.path.isfile(os.path.join(build_path, fname)) and fname.lower().endswith(\".root\")]\n",
    "\n",
    "chain = ROOT.TChain(\"sim\")\n",
    "for fname in root_file_names:\n",
    "    chain.AddFile(fname)\n",
    "\n",
    "c = ROOT.TCanvas()"
   ]
  },
  {
   "cell_type": "code",
   "execution_count": 3,
   "metadata": {},
   "outputs": [
    {
     "data": {
      "image/png": "[encoded data removed]",
      "text/plain": [
       "<IPython.core.display.Image object>"
      ]
     },
     "metadata": {},
     "output_type": "display_data"
    }
   ],
   "source": [
    "h2 = ROOT.TH1F(\"caloedephist\", \"caloedephist\", 100, 0, 75)\n",
    "chain.Draw(\"calo.edep >> caloedephist\")\n",
    "c.SetLogy()\n",
    "c.Update()\n",
    "c.Draw()"
   ]
  },
  {
   "cell_type": "markdown",
   "metadata": {},
   "source": [
    "# Reset and Run"
   ]
  },
  {
   "cell_type": "code",
   "execution_count": 4,
   "metadata": {},
   "outputs": [
    {
     "name": "stdout",
     "output_type": "stream",
     "text": [
      "total 800\n",
      "drwxr-xr-x  16 xyuchen  staff   512B Jul 21 12:55 .\n",
      "drwxr-xr-x@  9 xyuchen  staff   288B Jul 21 12:45 ..\n",
      "-rw-r--r--   1 xyuchen  staff    47K Jul 21 12:45 CMakeCache.txt\n",
      "drwxr-xr-x  15 xyuchen  staff   480B Jul 21 12:55 CMakeFiles\n",
      "-rw-r--r--   1 xyuchen  staff    18K Jul 21 12:45 Makefile\n",
      "-rw-r--r--   1 xyuchen  staff   2.4K Jul 21 12:45 cmake_install.cmake\n",
      "-rw-r--r--   1 xyuchen  staff   9.3K Jul 21 12:45 genRootDict.cxx\n",
      "-rwxr-xr-x   1 xyuchen  staff    85K Jul 21 12:45 libRootDict.dylib\n",
      "-rw-r--r--   1 xyuchen  staff    88B Jul 21 12:45 libRootDict.rootmap\n",
      "-rw-r--r--   1 xyuchen  staff   1.5K Jul 21 12:45 libRootDict_rdict.pcm\n",
      "-rw-r--r--   1 xyuchen  staff   263B Jul 21 12:45 module.modulemap\n",
      "-rw-r--r--   1 xyuchen  staff   6.2K Jul 21 12:55 sim00000-00.root\n",
      "-rw-r--r--   1 xyuchen  staff   6.2K Jul 21 12:55 sim00000-01.root\n",
      "-rw-r--r--   1 xyuchen  staff   6.2K Jul 21 12:55 sim00000-02.root\n",
      "-rw-r--r--   1 xyuchen  staff   6.2K Jul 21 12:55 sim00000-03.root\n",
      "-rwxr-xr-x   1 xyuchen  staff   181K Jul 21 12:55 test\n"
     ]
    }
   ],
   "source": [
    "%%sh\n",
    "ls -lah /Users/xyuchen/desktop/pioneer/geanttesting/test/build"
   ]
  },
  {
   "cell_type": "code",
   "execution_count": 21,
   "metadata": {},
   "outputs": [],
   "source": [
    "%%sh\n",
    "cd /Users/xyuchen/desktop/pioneer/geanttesting/test/build\n",
    "rm *.root"
   ]
  },
  {
   "cell_type": "code",
   "execution_count": null,
   "metadata": {},
   "outputs": [],
   "source": [
    "%%sh\n",
    "cd /Users/xyuchen/desktop/pioneer/geanttesting/test/build\n",
    "cmake ."
   ]
  },
  {
   "cell_type": "code",
   "execution_count": null,
   "metadata": {},
   "outputs": [],
   "source": [
    "%%sh\n",
    "cd /Users/xyuchen/desktop/pioneer/geanttesting/test/build\n",
    "make"
   ]
  },
  {
   "cell_type": "code",
   "execution_count": null,
   "metadata": {},
   "outputs": [],
   "source": [
    "%%sh\n",
    "cd /Users/xyuchen/desktop/pioneer/geanttesting/test/build\n",
    "./test ../macros/init.mac"
   ]
  }
 ],
 "metadata": {
  "kernelspec": {
   "display_name": "Python 3 (ipykernel)",
   "language": "python",
   "name": "python3"
  },
  "language_info": {
   "codemirror_mode": {
    "name": "ipython",
    "version": 3
   },
   "file_extension": ".py",
   "mimetype": "text/x-python",
   "name": "python",
   "nbconvert_exporter": "python",
   "pygments_lexer": "ipython3",
   "version": "3.9.12"
  },
  "vscode": {
   "interpreter": {
    "hash": "aee8b7b246df8f9039afb4144a1f6fd8d2ca17a180786b69acc140d282b71a49"
   }
  }
 },
 "nbformat": 4,
 "nbformat_minor": 2
}
